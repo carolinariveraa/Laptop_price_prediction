{
 "cells": [
  {
   "attachments": {},
   "cell_type": "markdown",
   "metadata": {},
   "source": [
    "## Importar librerias"
   ]
  },
  {
   "cell_type": "code",
   "execution_count": 1,
   "metadata": {},
   "outputs": [],
   "source": [
    "import warnings\n",
    "warnings.filterwarnings('ignore')\n",
    "\n",
    "import pandas as pd\n",
    "import numpy as np\n",
    "\n",
    "import pylab as plt\n",
    "import seaborn as sns\n",
    "\n",
    "%matplotlib inline"
   ]
  },
  {
   "cell_type": "code",
   "execution_count": 2,
   "metadata": {},
   "outputs": [],
   "source": [
    "from sklearn.model_selection import train_test_split\n",
    "from sklearn.metrics import mean_squared_error, r2_score\n",
    "from sklearn.linear_model import LinearRegression,Ridge,Lasso\n",
    "from sklearn.tree import DecisionTreeRegressor\n",
    "from sklearn.ensemble import RandomForestRegressor\n",
    "\n"
   ]
  },
  {
   "cell_type": "code",
   "execution_count": 3,
   "metadata": {},
   "outputs": [
    {
     "data": {
      "text/html": [
       "<div>\n",
       "<style scoped>\n",
       "    .dataframe tbody tr th:only-of-type {\n",
       "        vertical-align: middle;\n",
       "    }\n",
       "\n",
       "    .dataframe tbody tr th {\n",
       "        vertical-align: top;\n",
       "    }\n",
       "\n",
       "    .dataframe thead th {\n",
       "        text-align: right;\n",
       "    }\n",
       "</style>\n",
       "<table border=\"1\" class=\"dataframe\">\n",
       "  <thead>\n",
       "    <tr style=\"text-align: right;\">\n",
       "      <th></th>\n",
       "      <th>Manufacturer</th>\n",
       "      <th>Model Name</th>\n",
       "      <th>Category</th>\n",
       "      <th>Screen Size</th>\n",
       "      <th>Screen</th>\n",
       "      <th>CPU</th>\n",
       "      <th>RAM</th>\n",
       "      <th>Storage</th>\n",
       "      <th>GPU</th>\n",
       "      <th>Operating System</th>\n",
       "      <th>Operating System Version</th>\n",
       "      <th>Weight</th>\n",
       "      <th>Price</th>\n",
       "    </tr>\n",
       "  </thead>\n",
       "  <tbody>\n",
       "    <tr>\n",
       "      <th>0</th>\n",
       "      <td>Apple</td>\n",
       "      <td>MacBook Pro</td>\n",
       "      <td>Ultrabook</td>\n",
       "      <td>13.3\"</td>\n",
       "      <td>IPS Panel Retina Display 2560x1600</td>\n",
       "      <td>Intel Core i5 2.3GHz</td>\n",
       "      <td>8GB</td>\n",
       "      <td>128GB SSD</td>\n",
       "      <td>Intel Iris Plus Graphics 640</td>\n",
       "      <td>macOS</td>\n",
       "      <td>NaN</td>\n",
       "      <td>1.37kg</td>\n",
       "      <td>11912523.48</td>\n",
       "    </tr>\n",
       "    <tr>\n",
       "      <th>1</th>\n",
       "      <td>Apple</td>\n",
       "      <td>Macbook Air</td>\n",
       "      <td>Ultrabook</td>\n",
       "      <td>13.3\"</td>\n",
       "      <td>1440x900</td>\n",
       "      <td>Intel Core i5 1.8GHz</td>\n",
       "      <td>8GB</td>\n",
       "      <td>128GB Flash Storage</td>\n",
       "      <td>Intel HD Graphics 6000</td>\n",
       "      <td>macOS</td>\n",
       "      <td>NaN</td>\n",
       "      <td>1.34kg</td>\n",
       "      <td>7993374.48</td>\n",
       "    </tr>\n",
       "    <tr>\n",
       "      <th>2</th>\n",
       "      <td>HP</td>\n",
       "      <td>250 G6</td>\n",
       "      <td>Notebook</td>\n",
       "      <td>15.6\"</td>\n",
       "      <td>Full HD 1920x1080</td>\n",
       "      <td>Intel Core i5 7200U 2.5GHz</td>\n",
       "      <td>8GB</td>\n",
       "      <td>256GB SSD</td>\n",
       "      <td>Intel HD Graphics 620</td>\n",
       "      <td>No OS</td>\n",
       "      <td>NaN</td>\n",
       "      <td>1.86kg</td>\n",
       "      <td>5112900.00</td>\n",
       "    </tr>\n",
       "    <tr>\n",
       "      <th>3</th>\n",
       "      <td>Apple</td>\n",
       "      <td>MacBook Pro</td>\n",
       "      <td>Ultrabook</td>\n",
       "      <td>15.4\"</td>\n",
       "      <td>IPS Panel Retina Display 2880x1800</td>\n",
       "      <td>Intel Core i7 2.7GHz</td>\n",
       "      <td>16GB</td>\n",
       "      <td>512GB SSD</td>\n",
       "      <td>AMD Radeon Pro 455</td>\n",
       "      <td>macOS</td>\n",
       "      <td>NaN</td>\n",
       "      <td>1.83kg</td>\n",
       "      <td>22563005.40</td>\n",
       "    </tr>\n",
       "    <tr>\n",
       "      <th>4</th>\n",
       "      <td>Apple</td>\n",
       "      <td>MacBook Pro</td>\n",
       "      <td>Ultrabook</td>\n",
       "      <td>13.3\"</td>\n",
       "      <td>IPS Panel Retina Display 2560x1600</td>\n",
       "      <td>Intel Core i5 3.1GHz</td>\n",
       "      <td>8GB</td>\n",
       "      <td>256GB SSD</td>\n",
       "      <td>Intel Iris Plus Graphics 650</td>\n",
       "      <td>macOS</td>\n",
       "      <td>NaN</td>\n",
       "      <td>1.37kg</td>\n",
       "      <td>16037611.20</td>\n",
       "    </tr>\n",
       "  </tbody>\n",
       "</table>\n",
       "</div>"
      ],
      "text/plain": [
       "  Manufacturer   Model Name   Category Screen Size  \\\n",
       "0        Apple  MacBook Pro  Ultrabook       13.3\"   \n",
       "1        Apple  Macbook Air  Ultrabook       13.3\"   \n",
       "2           HP       250 G6   Notebook       15.6\"   \n",
       "3        Apple  MacBook Pro  Ultrabook       15.4\"   \n",
       "4        Apple  MacBook Pro  Ultrabook       13.3\"   \n",
       "\n",
       "                               Screen                         CPU   RAM  \\\n",
       "0  IPS Panel Retina Display 2560x1600        Intel Core i5 2.3GHz   8GB   \n",
       "1                            1440x900        Intel Core i5 1.8GHz   8GB   \n",
       "2                   Full HD 1920x1080  Intel Core i5 7200U 2.5GHz   8GB   \n",
       "3  IPS Panel Retina Display 2880x1800        Intel Core i7 2.7GHz  16GB   \n",
       "4  IPS Panel Retina Display 2560x1600        Intel Core i5 3.1GHz   8GB   \n",
       "\n",
       "               Storage                           GPU Operating System  \\\n",
       "0            128GB SSD  Intel Iris Plus Graphics 640            macOS   \n",
       "1  128GB Flash Storage        Intel HD Graphics 6000            macOS   \n",
       "2            256GB SSD         Intel HD Graphics 620            No OS   \n",
       "3            512GB SSD            AMD Radeon Pro 455            macOS   \n",
       "4            256GB SSD  Intel Iris Plus Graphics 650            macOS   \n",
       "\n",
       "  Operating System Version  Weight        Price  \n",
       "0                      NaN  1.37kg  11912523.48  \n",
       "1                      NaN  1.34kg   7993374.48  \n",
       "2                      NaN  1.86kg   5112900.00  \n",
       "3                      NaN  1.83kg  22563005.40  \n",
       "4                      NaN  1.37kg  16037611.20  "
      ]
     },
     "execution_count": 3,
     "metadata": {},
     "output_type": "execute_result"
    }
   ],
   "source": [
    "compu = pd.read_csv('data/train.csv')\n",
    "\n",
    "compu.head()"
   ]
  },
  {
   "attachments": {},
   "cell_type": "markdown",
   "metadata": {},
   "source": [
    "## EDA"
   ]
  },
  {
   "cell_type": "code",
   "execution_count": 4,
   "metadata": {},
   "outputs": [
    {
     "data": {
      "text/html": [
       "<div>\n",
       "<style scoped>\n",
       "    .dataframe tbody tr th:only-of-type {\n",
       "        vertical-align: middle;\n",
       "    }\n",
       "\n",
       "    .dataframe tbody tr th {\n",
       "        vertical-align: top;\n",
       "    }\n",
       "\n",
       "    .dataframe thead th {\n",
       "        text-align: right;\n",
       "    }\n",
       "</style>\n",
       "<table border=\"1\" class=\"dataframe\">\n",
       "  <thead>\n",
       "    <tr style=\"text-align: right;\">\n",
       "      <th></th>\n",
       "      <th>count</th>\n",
       "      <th>mean</th>\n",
       "      <th>std</th>\n",
       "      <th>min</th>\n",
       "      <th>25%</th>\n",
       "      <th>50%</th>\n",
       "      <th>75%</th>\n",
       "      <th>max</th>\n",
       "    </tr>\n",
       "  </thead>\n",
       "  <tbody>\n",
       "    <tr>\n",
       "      <th>Price</th>\n",
       "      <td>977.0</td>\n",
       "      <td>1.001899e+07</td>\n",
       "      <td>6.306430e+06</td>\n",
       "      <td>1706374.8</td>\n",
       "      <td>5326308.0</td>\n",
       "      <td>8527428.0</td>\n",
       "      <td>13115700.0</td>\n",
       "      <td>54232308.0</td>\n",
       "    </tr>\n",
       "  </tbody>\n",
       "</table>\n",
       "</div>"
      ],
      "text/plain": [
       "       count          mean           std        min        25%        50%  \\\n",
       "Price  977.0  1.001899e+07  6.306430e+06  1706374.8  5326308.0  8527428.0   \n",
       "\n",
       "              75%         max  \n",
       "Price  13115700.0  54232308.0  "
      ]
     },
     "execution_count": 4,
     "metadata": {},
     "output_type": "execute_result"
    }
   ],
   "source": [
    "compu.describe().T"
   ]
  },
  {
   "cell_type": "code",
   "execution_count": 5,
   "metadata": {},
   "outputs": [
    {
     "name": "stdout",
     "output_type": "stream",
     "text": [
      "<class 'pandas.core.frame.DataFrame'>\n",
      "RangeIndex: 977 entries, 0 to 976\n",
      "Data columns (total 13 columns):\n",
      " #   Column                    Non-Null Count  Dtype  \n",
      "---  ------                    --------------  -----  \n",
      " 0   Manufacturer              977 non-null    object \n",
      " 1   Model Name                977 non-null    object \n",
      " 2   Category                  977 non-null    object \n",
      " 3   Screen Size               977 non-null    object \n",
      " 4   Screen                    977 non-null    object \n",
      " 5   CPU                       977 non-null    object \n",
      " 6   RAM                       977 non-null    object \n",
      " 7    Storage                  977 non-null    object \n",
      " 8   GPU                       977 non-null    object \n",
      " 9   Operating System          977 non-null    object \n",
      " 10  Operating System Version  841 non-null    object \n",
      " 11  Weight                    977 non-null    object \n",
      " 12  Price                     977 non-null    float64\n",
      "dtypes: float64(1), object(12)\n",
      "memory usage: 780.0 KB\n"
     ]
    }
   ],
   "source": [
    "compu.info(memory_usage='deep')"
   ]
  },
  {
   "cell_type": "code",
   "execution_count": 6,
   "metadata": {},
   "outputs": [
    {
     "data": {
      "text/plain": [
       "Index(['Manufacturer', 'Model Name', 'Category', 'Screen Size', 'Screen',\n",
       "       'CPU', 'RAM', ' Storage', 'GPU', 'Operating System',\n",
       "       'Operating System Version', 'Weight', 'Price'],\n",
       "      dtype='object')"
      ]
     },
     "execution_count": 6,
     "metadata": {},
     "output_type": "execute_result"
    }
   ],
   "source": [
    "compu.columns"
   ]
  },
  {
   "attachments": {},
   "cell_type": "markdown",
   "metadata": {},
   "source": [
    "# Columnas"
   ]
  },
  {
   "attachments": {},
   "cell_type": "markdown",
   "metadata": {},
   "source": [
    "## Manufacturer"
   ]
  },
  {
   "cell_type": "code",
   "execution_count": 7,
   "metadata": {},
   "outputs": [
    {
     "data": {
      "text/plain": [
       "array(['Apple', 'HP', 'Acer', 'Asus', 'Dell', 'Lenovo', 'Chuwi', 'MSI',\n",
       "       'Microsoft', 'Toshiba', 'Huawei', 'Xiaomi', 'Vero', 'Razer',\n",
       "       'Mediacom', 'Samsung', 'Google', 'Fujitsu', 'LG'], dtype=object)"
      ]
     },
     "execution_count": 7,
     "metadata": {},
     "output_type": "execute_result"
    }
   ],
   "source": [
    "compu.Manufacturer.unique()"
   ]
  },
  {
   "cell_type": "code",
   "execution_count": 8,
   "metadata": {},
   "outputs": [
    {
     "data": {
      "image/png": "[encoded data removed]",
      "text/plain": [
       "<Figure size 640x480 with 1 Axes>"
      ]
     },
     "metadata": {},
     "output_type": "display_data"
    }
   ],
   "source": [
    "sns.countplot(data=compu, x='Manufacturer')\n",
    "plt.xlabel('Manufacturer')\n",
    "plt.ylabel('Frequency')\n",
    "plt.title('Countplot of Manufacturer')\n",
    "plt.xticks(rotation=\"vertical\")\n",
    "plt.show()"
   ]
  },
  {
   "cell_type": "code",
   "execution_count": 10,
   "metadata": {},
   "outputs": [],
   "source": [
    "def replace_with_other(df, column, values):\n",
    "    df[column] = df[column].apply(lambda x: x if x in values else 'Other')\n",
    "    return df\n",
    "\n",
    "\n",
    "manufacturer_list = ['HP', 'Asus', 'Dell', 'Toshiba', 'Lenovo', 'Acer', 'MSI', 'Vero', 'Apple', 'Razer', 'Samsung']\n",
    "compu = replace_with_other(compu, 'Manufacturer', manufacturer_list)"
   ]
  },
  {
   "attachments": {},
   "cell_type": "markdown",
   "metadata": {},
   "source": [
    "## Model Name"
   ]
  },
  {
   "attachments": {},
   "cell_type": "markdown",
   "metadata": {},
   "source": [
    "Hay demasiados valores únicos por lo tanto no la voy a utilizar para entrenar al modelo"
   ]
  },
  {
   "attachments": {},
   "cell_type": "markdown",
   "metadata": {},
   "source": [
    "## Category"
   ]
  },
  {
   "cell_type": "code",
   "execution_count": 11,
   "metadata": {},
   "outputs": [
    {
     "data": {
      "text/plain": [
       "array(['Ultrabook', 'Notebook', 'Netbook', 'Gaming', '2 in 1 Convertible',\n",
       "       'Workstation'], dtype=object)"
      ]
     },
     "execution_count": 11,
     "metadata": {},
     "output_type": "execute_result"
    }
   ],
   "source": [
    "compu.Category.unique()"
   ]
  },
  {
   "attachments": {},
   "cell_type": "markdown",
   "metadata": {},
   "source": [
    "Ultrabook: Se refiere a un tipo de portátil ligero y delgado, con un enfoque en la portabilidad y la duración de la batería.\n",
    "\n",
    "Notebook: Es una categoría general para referirse a portátiles o laptops en general, que ofrecen una combinación de rendimiento y portabilidad.\n",
    "\n",
    "Netbook: Se refiere a un tipo de portátil pequeño y ligero, diseñado principalmente para tareas básicas y acceso a internet.\n",
    "\n",
    "Gaming: Se refiere a ordenadores diseñados específicamente para juegos, con características y componentes de alto rendimiento para ofrecer una experiencia de juego óptima.\n",
    "\n",
    "2 in 1 Convertible: Se refiere a portátiles o tablets que ofrecen la capacidad de convertirse entre diferentes modos, como portátil y tablet, generalmente mediante un mecanismo de bisagra o desmontaje.\n",
    "\n",
    "Workstation: Se refiere a ordenadores de alto rendimiento diseñados para tareas exigentes y especializadas, como diseño gráfico, modelado 3D, renderizado, etc."
   ]
  },
  {
   "attachments": {},
   "cell_type": "markdown",
   "metadata": {},
   "source": [
    "------------\n",
    "\n",
    "Gaming y Workstation suelen ser más caros"
   ]
  },
  {
   "cell_type": "code",
   "execution_count": 12,
   "metadata": {},
   "outputs": [
    {
     "data": {
      "image/png": "[encoded data removed]",
      "text/plain": [
       "<Figure size 640x480 with 1 Axes>"
      ]
     },
     "metadata": {},
     "output_type": "display_data"
    }
   ],
   "source": [
    "\n",
    "sns.barplot(x=compu['Category'], y=compu['Price'])\n",
    "plt.xticks(rotation=\"vertical\")\n",
    "plt.show()"
   ]
  },
  {
   "attachments": {},
   "cell_type": "markdown",
   "metadata": {},
   "source": [
    "## Screen Size"
   ]
  },
  {
   "cell_type": "code",
   "execution_count": 13,
   "metadata": {},
   "outputs": [
    {
     "data": {
      "text/plain": [
       "array(['13.3\"', '15.6\"', '15.4\"', '14.0\"', '12.0\"', '11.6\"', '17.3\"',\n",
       "       '10.1\"', '13.5\"', '12.5\"', '13.0\"', '18.4\"', '13.9\"', '12.3\"',\n",
       "       '17.0\"', '15.0\"', '14.1\"', '11.3\"'], dtype=object)"
      ]
     },
     "execution_count": 13,
     "metadata": {},
     "output_type": "execute_result"
    }
   ],
   "source": [
    "compu['Screen Size'].unique()"
   ]
  },
  {
   "attachments": {},
   "cell_type": "markdown",
   "metadata": {},
   "source": [
    "Función para quitar las comillas de inches y transformar a númerico"
   ]
  },
  {
   "cell_type": "code",
   "execution_count": 14,
   "metadata": {},
   "outputs": [],
   "source": [
    "def inches(s):\n",
    "    s = str(s)  # Convertir a cadena de texto\n",
    "    s = float(s.split('\"')[0])\n",
    "    return s"
   ]
  },
  {
   "cell_type": "code",
   "execution_count": 15,
   "metadata": {},
   "outputs": [],
   "source": [
    "compu['Screen Size'] = compu['Screen Size'].apply(inches)"
   ]
  },
  {
   "attachments": {},
   "cell_type": "markdown",
   "metadata": {},
   "source": [
    "## CPU"
   ]
  },
  {
   "cell_type": "code",
   "execution_count": 17,
   "metadata": {},
   "outputs": [],
   "source": [
    "compu.CPU.unique();"
   ]
  },
  {
   "attachments": {},
   "cell_type": "markdown",
   "metadata": {},
   "source": [
    "Función para clasificar el procesador"
   ]
  },
  {
   "cell_type": "code",
   "execution_count": 18,
   "metadata": {},
   "outputs": [],
   "source": [
    "\n",
    "def fetch_processor(x):\n",
    "  cpu_name = \" \".join(x.split()[0:3])\n",
    "  if cpu_name == 'Intel Core i7' or cpu_name == 'Intel Core i5' or cpu_name == 'Intel Core i3':\n",
    "    return cpu_name\n",
    "  elif cpu_name.split()[0] == 'Intel':\n",
    "    return 'Other Intel Processor'\n",
    "  else:\n",
    "    return 'AMD Processor'\n",
    "  \n",
    "  \n",
    "compu['Processor'] = compu['CPU'].apply(lambda x: fetch_processor(x))"
   ]
  },
  {
   "cell_type": "code",
   "execution_count": 19,
   "metadata": {},
   "outputs": [
    {
     "data": {
      "text/plain": [
       "Intel Core i7            386\n",
       "Intel Core i5            330\n",
       "Other Intel Processor    108\n",
       "Intel Core i3            105\n",
       "AMD Processor             48\n",
       "Name: Processor, dtype: int64"
      ]
     },
     "execution_count": 19,
     "metadata": {},
     "output_type": "execute_result"
    }
   ],
   "source": [
    "compu['Processor'].value_counts()"
   ]
  },
  {
   "attachments": {},
   "cell_type": "markdown",
   "metadata": {},
   "source": [
    "Como varía con el precio?"
   ]
  },
  {
   "cell_type": "code",
   "execution_count": 20,
   "metadata": {},
   "outputs": [
    {
     "data": {
      "image/png": "[encoded data removed]",
      "text/plain": [
       "<Figure size 640x480 with 1 Axes>"
      ]
     },
     "metadata": {},
     "output_type": "display_data"
    }
   ],
   "source": [
    "sns.barplot(x=compu['Processor'],y=compu['Price'])\n",
    "plt.xticks(rotation='vertical')\n",
    "plt.show()"
   ]
  },
  {
   "attachments": {},
   "cell_type": "markdown",
   "metadata": {},
   "source": [
    "## RAM"
   ]
  },
  {
   "cell_type": "code",
   "execution_count": 21,
   "metadata": {},
   "outputs": [
    {
     "data": {
      "text/plain": [
       "array(['8GB', '16GB', '4GB', '2GB', '12GB', '6GB', '32GB', '24GB'],\n",
       "      dtype=object)"
      ]
     },
     "execution_count": 21,
     "metadata": {},
     "output_type": "execute_result"
    }
   ],
   "source": [
    "compu.RAM.unique()"
   ]
  },
  {
   "attachments": {},
   "cell_type": "markdown",
   "metadata": {},
   "source": [
    "Función para quitar GB"
   ]
  },
  {
   "cell_type": "code",
   "execution_count": 22,
   "metadata": {},
   "outputs": [],
   "source": [
    "def gb(s):\n",
    "    s = str(s)  # Convertir a cadena de texto\n",
    "    s = float(s.split('GB')[0])\n",
    "    return s"
   ]
  },
  {
   "cell_type": "code",
   "execution_count": 23,
   "metadata": {},
   "outputs": [],
   "source": [
    "compu.RAM = compu.RAM.apply(gb)"
   ]
  },
  {
   "cell_type": "code",
   "execution_count": 24,
   "metadata": {},
   "outputs": [
    {
     "data": {
      "image/png": "[encoded data removed]",
      "text/plain": [
       "<Figure size 640x480 with 1 Axes>"
      ]
     },
     "metadata": {},
     "output_type": "display_data"
    }
   ],
   "source": [
    "sns.barplot(x=compu['RAM'], y=compu['Price'])\n",
    "plt.show()"
   ]
  },
  {
   "attachments": {},
   "cell_type": "markdown",
   "metadata": {},
   "source": [
    "## Storage"
   ]
  },
  {
   "attachments": {},
   "cell_type": "markdown",
   "metadata": {},
   "source": [
    "Clasifico según el tipo de memoria "
   ]
  },
  {
   "cell_type": "code",
   "execution_count": 25,
   "metadata": {},
   "outputs": [
    {
     "data": {
      "text/plain": [
       "array(['128GB SSD', '128GB Flash Storage', '256GB SSD', '512GB SSD',\n",
       "       '500GB HDD', '256GB Flash Storage', '1TB HDD',\n",
       "       '32GB Flash Storage', '128GB SSD +  1TB HDD',\n",
       "       '256GB SSD +  256GB SSD', '64GB Flash Storage',\n",
       "       '256GB SSD +  1TB HDD', '256GB SSD +  2TB HDD', '32GB SSD',\n",
       "       '2TB HDD', '64GB SSD', '1TB Hybrid', '512GB SSD +  1TB HDD',\n",
       "       '1TB SSD', '256GB SSD +  500GB HDD', '128GB SSD +  2TB HDD',\n",
       "       '512GB SSD +  512GB SSD', '16GB SSD', '16GB Flash Storage',\n",
       "       '512GB SSD +  256GB SSD', '512GB SSD +  2TB HDD',\n",
       "       '64GB Flash Storage +  1TB HDD', '1GB SSD', '1TB HDD +  1TB HDD',\n",
       "       '32GB HDD', '1TB SSD +  1TB HDD', '512GB Flash Storage',\n",
       "       '128GB HDD', '240GB SSD', '8GB SSD', '508GB Hybrid'], dtype=object)"
      ]
     },
     "execution_count": 25,
     "metadata": {},
     "output_type": "execute_result"
    }
   ],
   "source": [
    "compu[' Storage'].unique()"
   ]
  },
  {
   "cell_type": "code",
   "execution_count": 26,
   "metadata": {},
   "outputs": [],
   "source": [
    "def storage(d):\n",
    "    if 'SSD' in d:\n",
    "        s = 'SSD'\n",
    "    elif 'HDD' in d:\n",
    "        s = 'HDD'\n",
    "    elif 'Flash Storage' in d:\n",
    "        s = 'Flash Storage'\n",
    "    elif 'Hybrid' in d:\n",
    "        s = 'Hybrid'\n",
    "    elif ('SSD' in d and 'HDD' in d):\n",
    "        s = 'Hybrid'\n",
    "    else:\n",
    "        s = 'Other'\n",
    "    return s\n",
    "\n",
    "\n",
    "compu['Storage_class'] = compu[' Storage'].apply(lambda x: storage(x))\n"
   ]
  },
  {
   "cell_type": "code",
   "execution_count": 27,
   "metadata": {},
   "outputs": [
    {
     "data": {
      "text/plain": [
       "array(['SSD', 'Flash Storage', 'HDD', 'Hybrid'], dtype=object)"
      ]
     },
     "execution_count": 27,
     "metadata": {},
     "output_type": "execute_result"
    }
   ],
   "source": [
    "compu['Storage_class'].unique()"
   ]
  },
  {
   "cell_type": "code",
   "execution_count": 28,
   "metadata": {},
   "outputs": [
    {
     "data": {
      "image/png": "[encoded data removed]",
      "text/plain": [
       "<Figure size 640x480 with 1 Axes>"
      ]
     },
     "metadata": {},
     "output_type": "display_data"
    }
   ],
   "source": [
    "sns.barplot(x=compu['Storage_class'], y=compu['Price'])\n",
    "plt.show()"
   ]
  },
  {
   "attachments": {},
   "cell_type": "markdown",
   "metadata": {},
   "source": [
    "## Weight"
   ]
  },
  {
   "cell_type": "code",
   "execution_count": 29,
   "metadata": {},
   "outputs": [
    {
     "data": {
      "text/plain": [
       "array(['1.37kg', '1.34kg', '1.86kg', '1.83kg', '2.1kg', '2.04kg', '1.3kg',\n",
       "       '1.6kg', '2.2kg', '0.92kg', '1.22kg', '0.98kg', '2.5kg', '1.62kg',\n",
       "       '1.91kg', '2.3kg', '1.35kg', '1.88kg', '1.89kg', '1.65kg',\n",
       "       '2.71kg', '1.2kg', '1.44kg', '2.8kg', '2kg', '2.65kg', '2.77kg',\n",
       "       '3.2kg', '0.69kg', '1.49kg', '2.4kg', '2.13kg', '2.43kg', '1.7kg',\n",
       "       '1.4kg', '1.8kg', '1.9kg', '3kg', '1.252kg', '2.7kg', '2.02kg',\n",
       "       '1.63kg', '1.96kg', '1.21kg', '2.45kg', '1.25kg', '1.5kg',\n",
       "       '2.62kg', '1.38kg', '1.58kg', '1.85kg', '1.23kg', '1.26kg',\n",
       "       '2.16kg', '2.36kg', '2.05kg', '1.32kg', '1.75kg', '0.97kg',\n",
       "       '2.9kg', '2.56kg', '1.48kg', '1.74kg', '1.1kg', '1.56kg', '2.03kg',\n",
       "       '1.05kg', '4.4kg', '1.90kg', '1.29kg', '2.0kg', '1.95kg', '2.06kg',\n",
       "       '1.12kg', '1.42kg', '3.49kg', '3.35kg', '2.23kg', '4.42kg',\n",
       "       '2.69kg', '2.37kg', '4.7kg', '3.6kg', '2.08kg', '4.3kg', '1.68kg',\n",
       "       '1.41kg', '4.14kg', '2.18kg', '2.24kg', '2.67kg', '2.14kg',\n",
       "       '1.36kg', '2.25kg', '2.15kg', '2.19kg', '2.54kg', '3.42kg',\n",
       "       '1.28kg', '2.33kg', '1.45kg', '2.79kg', '1.84kg', '2.6kg',\n",
       "       '2.26kg', '3.25kg', '1.59kg', '1.13kg', '1.78kg', '1.10kg',\n",
       "       '1.15kg', '1.27kg', '1.43kg', '2.31kg', '1.16kg', '1.64kg',\n",
       "       '2.17kg', '1.47kg', '3.78kg', '1.79kg', '0.91kg', '1.99kg',\n",
       "       '4.33kg', '1.93kg', '1.87kg', '2.63kg', '3.4kg', '3.14kg',\n",
       "       '1.94kg', '1.24kg', '4.6kg', '4.5kg', '2.73kg', '1.39kg', '2.29kg',\n",
       "       '2.59kg', '2.94kg', '1.14kg', '3.8kg', '3.31kg', '1.09kg',\n",
       "       '3.21kg', '1.19kg', '1.98kg', '1.17kg', '4.36kg', '1.71kg',\n",
       "       '2.32kg', '4.2kg', '1.55kg', '0.81kg', '1.18kg', '2.72kg',\n",
       "       '1.31kg', '0.920kg', '3.74kg', '1.76kg', '1.54kg', '2.83kg',\n",
       "       '2.07kg', '2.38kg', '3.58kg', '1.08kg', '2.20kg', '2.75kg',\n",
       "       '1.70kg'], dtype=object)"
      ]
     },
     "execution_count": 29,
     "metadata": {},
     "output_type": "execute_result"
    }
   ],
   "source": [
    "compu.Weight.unique()"
   ]
  },
  {
   "attachments": {},
   "cell_type": "markdown",
   "metadata": {},
   "source": [
    "Función para quitar los kg"
   ]
  },
  {
   "cell_type": "code",
   "execution_count": 30,
   "metadata": {},
   "outputs": [],
   "source": [
    "def weight(s):\n",
    "    s = str(s)  # Convertir a cadena de texto\n",
    "    s = float(s.split('kg')[0])\n",
    "    return s"
   ]
  },
  {
   "cell_type": "code",
   "execution_count": 31,
   "metadata": {},
   "outputs": [],
   "source": [
    "compu.Weight = compu.Weight.apply(weight)"
   ]
  },
  {
   "cell_type": "code",
   "execution_count": 32,
   "metadata": {},
   "outputs": [
    {
     "data": {
      "text/plain": [
       "<bound method Series.unique of 0      1.37\n",
       "1      1.34\n",
       "2      1.86\n",
       "3      1.83\n",
       "4      1.37\n",
       "       ... \n",
       "972    4.42\n",
       "973    1.95\n",
       "974    2.73\n",
       "975    2.04\n",
       "976    1.70\n",
       "Name: Weight, Length: 977, dtype: float64>"
      ]
     },
     "execution_count": 32,
     "metadata": {},
     "output_type": "execute_result"
    }
   ],
   "source": [
    "compu.Weight.unique"
   ]
  },
  {
   "cell_type": "code",
   "execution_count": 33,
   "metadata": {},
   "outputs": [],
   "source": [
    "def weight_class(s):\n",
    "    if (s > 0.5 and s <= 1):\n",
    "        s = 1\n",
    "    elif s > 1 and s<= 1.5:\n",
    "        s = 1.5\n",
    "    elif s > 1.5 and s <=2:\n",
    "        s = 2\n",
    "    elif s > 2 and s <=2.5:\n",
    "        s = 2.5\n",
    "    elif s > 2.5 and s <=3:\n",
    "        s = 3\n",
    "    elif s > 3 and s <3.5:\n",
    "        s = 3.5\n",
    "    else:\n",
    "        s=4\n",
    "    return s\n",
    "        "
   ]
  },
  {
   "attachments": {},
   "cell_type": "markdown",
   "metadata": {},
   "source": [
    "Para visualizar bien si el peso tiene importancia en el precio y parece que si"
   ]
  },
  {
   "cell_type": "code",
   "execution_count": 34,
   "metadata": {},
   "outputs": [],
   "source": [
    "compu['Weight_class'] = compu.Weight.apply(weight_class)"
   ]
  },
  {
   "cell_type": "code",
   "execution_count": 35,
   "metadata": {},
   "outputs": [
    {
     "data": {
      "image/png": "[encoded data removed]",
      "text/plain": [
       "<Figure size 640x480 with 1 Axes>"
      ]
     },
     "metadata": {},
     "output_type": "display_data"
    }
   ],
   "source": [
    "sns.barplot(x=compu['Weight_class'], y=compu['Price'])\n",
    "plt.show()"
   ]
  },
  {
   "attachments": {},
   "cell_type": "markdown",
   "metadata": {},
   "source": [
    "## Operating System"
   ]
  },
  {
   "cell_type": "code",
   "execution_count": 36,
   "metadata": {},
   "outputs": [
    {
     "data": {
      "text/plain": [
       "Windows      837\n",
       "No OS         52\n",
       "Linux         48\n",
       "Chrome OS     22\n",
       "macOS         13\n",
       "Mac OS         4\n",
       "Android        1\n",
       "Name: Operating System, dtype: int64"
      ]
     },
     "execution_count": 36,
     "metadata": {},
     "output_type": "execute_result"
    }
   ],
   "source": [
    "compu['Operating System'].value_counts()"
   ]
  },
  {
   "cell_type": "code",
   "execution_count": 37,
   "metadata": {},
   "outputs": [],
   "source": [
    "def cat_os(text):\n",
    "    if text=='Windows':\n",
    "        return 'Windows'\n",
    "    if text=='Linux':\n",
    "        return 'Linux'\n",
    "    \n",
    "    elif text=='Mac OS' or text=='macOS':\n",
    "        return 'Mac'\n",
    "    \n",
    "    else:\n",
    "        return 'Other'\n",
    "    \n",
    "\n",
    "compu['OS'] = compu['Operating System'].apply(cat_os)\n"
   ]
  },
  {
   "cell_type": "code",
   "execution_count": 38,
   "metadata": {},
   "outputs": [
    {
     "data": {
      "text/plain": [
       "Operating System\n",
       "Android      2.836548e+06\n",
       "Chrome OS    5.255132e+06\n",
       "Linux        5.665410e+06\n",
       "Mac OS       1.200858e+07\n",
       "No OS        5.313421e+06\n",
       "Windows      1.059927e+07\n",
       "macOS        1.555772e+07\n",
       "Name: Price, dtype: float64"
      ]
     },
     "execution_count": 38,
     "metadata": {},
     "output_type": "execute_result"
    }
   ],
   "source": [
    "compu.groupby('Operating System')['Price'].mean()"
   ]
  },
  {
   "cell_type": "code",
   "execution_count": 39,
   "metadata": {},
   "outputs": [
    {
     "data": {
      "image/png": "[encoded data removed]",
      "text/plain": [
       "<Figure size 640x480 with 1 Axes>"
      ]
     },
     "metadata": {},
     "output_type": "display_data"
    }
   ],
   "source": [
    "sns.barplot(x=compu['OS'],y=compu['Price'])\n",
    "plt.xticks(rotation='vertical')\n",
    "plt.show()"
   ]
  },
  {
   "attachments": {},
   "cell_type": "markdown",
   "metadata": {},
   "source": [
    "## Operating System Version"
   ]
  },
  {
   "attachments": {},
   "cell_type": "markdown",
   "metadata": {},
   "source": [
    "Esta se va fuera"
   ]
  },
  {
   "cell_type": "code",
   "execution_count": 40,
   "metadata": {},
   "outputs": [
    {
     "data": {
      "text/plain": [
       "10      819\n",
       "7        10\n",
       "10 S      8\n",
       "X         4\n",
       "Name: Operating System Version, dtype: int64"
      ]
     },
     "execution_count": 40,
     "metadata": {},
     "output_type": "execute_result"
    }
   ],
   "source": [
    "compu['Operating System Version'].value_counts()"
   ]
  },
  {
   "cell_type": "code",
   "execution_count": 41,
   "metadata": {},
   "outputs": [
    {
     "data": {
      "text/plain": [
       "Operating System Version\n",
       "10      819\n",
       "10 S      8\n",
       "7        10\n",
       "X         4\n",
       "Name: Price, dtype: int64"
      ]
     },
     "execution_count": 41,
     "metadata": {},
     "output_type": "execute_result"
    }
   ],
   "source": [
    "compu.groupby('Operating System Version')['Price'].count()"
   ]
  },
  {
   "cell_type": "code",
   "execution_count": 42,
   "metadata": {},
   "outputs": [
    {
     "data": {
      "text/plain": [
       "Index(['Manufacturer', 'Model Name', 'Category', 'Screen Size', 'Screen',\n",
       "       'CPU', 'RAM', ' Storage', 'GPU', 'Operating System',\n",
       "       'Operating System Version', 'Weight', 'Price', 'Processor',\n",
       "       'Storage_class', 'Weight_class', 'OS'],\n",
       "      dtype='object')"
      ]
     },
     "execution_count": 42,
     "metadata": {},
     "output_type": "execute_result"
    }
   ],
   "source": [
    "compu.columns"
   ]
  },
  {
   "attachments": {},
   "cell_type": "markdown",
   "metadata": {},
   "source": [
    "# GPU"
   ]
  },
  {
   "cell_type": "code",
   "execution_count": 43,
   "metadata": {},
   "outputs": [],
   "source": [
    "compu.GPU;"
   ]
  },
  {
   "attachments": {},
   "cell_type": "markdown",
   "metadata": {},
   "source": [
    "Función para sacar la primera palabra me quedo con Intel, Nvidia y AMD"
   ]
  },
  {
   "cell_type": "code",
   "execution_count": 44,
   "metadata": {},
   "outputs": [
    {
     "data": {
      "text/plain": [
       "Intel     525\n",
       "Nvidia    310\n",
       "AMD       142\n",
       "Name: Gpu_brand, dtype: int64"
      ]
     },
     "execution_count": 44,
     "metadata": {},
     "output_type": "execute_result"
    }
   ],
   "source": [
    "compu['Gpu_brand'] = compu['GPU'].apply(lambda x:x.split()[0])\n",
    "\n",
    "compu['Gpu_brand'].value_counts()"
   ]
  },
  {
   "attachments": {},
   "cell_type": "markdown",
   "metadata": {},
   "source": [
    "## Screen"
   ]
  },
  {
   "cell_type": "code",
   "execution_count": 45,
   "metadata": {},
   "outputs": [],
   "source": [
    "compu.Screen.unique();"
   ]
  },
  {
   "attachments": {},
   "cell_type": "markdown",
   "metadata": {},
   "source": [
    "Función para clasificar con la ayuda de ChatGPT"
   ]
  },
  {
   "cell_type": "code",
   "execution_count": 46,
   "metadata": {},
   "outputs": [],
   "source": [
    "def classify_resolution(resolution):\n",
    "    if '1366x768' in resolution or '1600x900' in resolution or '1920x1080' in resolution:\n",
    "        return 'HD'\n",
    "    elif '1440x900' in resolution or '2560x1440' in resolution:\n",
    "        return 'QHD'\n",
    "    elif '2880x1800' in resolution or '3200x1800' in resolution or '3840x2160' in resolution:\n",
    "        return 'UHD'\n",
    "    elif '2304x1440' in resolution or '2160x1440' in resolution or '2400x1600' in resolution:\n",
    "        return 'Retina'\n",
    "    elif '2736x1824' in resolution:\n",
    "        return 'Retina'\n",
    "    elif '1920x1200' in resolution:\n",
    "        return 'Full HD+'\n",
    "    elif '2256x1504' in resolution or '2560x1600' in resolution or 'Touchscreen' in resolution:\n",
    "        return 'QHD'\n",
    "    else:\n",
    "        return 'Other'\n",
    "\n",
    "compu['Screen_class'] = compu['Screen'].apply(classify_resolution)"
   ]
  },
  {
   "cell_type": "code",
   "execution_count": 47,
   "metadata": {},
   "outputs": [
    {
     "data": {
      "text/plain": [
       "array(['QHD', 'HD', 'UHD', 'Retina', 'Full HD+'], dtype=object)"
      ]
     },
     "execution_count": 47,
     "metadata": {},
     "output_type": "execute_result"
    }
   ],
   "source": [
    "compu['Screen_class'].unique()"
   ]
  },
  {
   "cell_type": "code",
   "execution_count": 48,
   "metadata": {},
   "outputs": [
    {
     "data": {
      "image/png": "[encoded data removed]",
      "text/plain": [
       "<Figure size 640x480 with 1 Axes>"
      ]
     },
     "metadata": {},
     "output_type": "display_data"
    }
   ],
   "source": [
    "sns.barplot(x=compu['Screen_class'],y=compu['Price'])\n",
    "plt.xticks(rotation='vertical')\n",
    "plt.show()"
   ]
  },
  {
   "cell_type": "code",
   "execution_count": 49,
   "metadata": {},
   "outputs": [],
   "source": [
    "# Lista de columnas a eliminar\n",
    "columns_to_drop = ['CPU', 'Operating System', 'Weight_class', 'Operating System Version', ' Storage', 'Screen', 'GPU', 'Model Name']\n",
    "\n",
    "# Crear nuevo dataframe eliminando las columnas\n",
    "new_compu = compu.drop(columns=columns_to_drop)\n"
   ]
  },
  {
   "attachments": {},
   "cell_type": "markdown",
   "metadata": {},
   "source": [
    "## Distribución de la columna objetivo"
   ]
  },
  {
   "cell_type": "code",
   "execution_count": 50,
   "metadata": {},
   "outputs": [
    {
     "data": {
      "text/plain": [
       "<AxesSubplot: xlabel='Price', ylabel='Density'>"
      ]
     },
     "execution_count": 50,
     "metadata": {},
     "output_type": "execute_result"
    },
    {
     "data": {
      "image/png": "[encoded data removed]",
      "text/plain": [
       "<Figure size 640x480 with 1 Axes>"
      ]
     },
     "metadata": {},
     "output_type": "display_data"
    }
   ],
   "source": [
    "sns.distplot(new_compu['Price'])"
   ]
  },
  {
   "cell_type": "code",
   "execution_count": 51,
   "metadata": {},
   "outputs": [
    {
     "data": {
      "text/plain": [
       "Screen Size   -0.397473\n",
       "RAM            2.078221\n",
       "Weight         1.184921\n",
       "Price          1.627143\n",
       "dtype: float64"
      ]
     },
     "execution_count": 51,
     "metadata": {},
     "output_type": "execute_result"
    }
   ],
   "source": [
    "new_compu.skew()"
   ]
  },
  {
   "attachments": {},
   "cell_type": "markdown",
   "metadata": {},
   "source": [
    "Como la distribución de la columna es hacia la derecha la mejor opción para normalizar es aplicar una función logaritmica"
   ]
  },
  {
   "cell_type": "code",
   "execution_count": 52,
   "metadata": {},
   "outputs": [],
   "source": [
    "new_compu['Price'] = np.log(new_compu['Price'])"
   ]
  },
  {
   "cell_type": "code",
   "execution_count": 53,
   "metadata": {},
   "outputs": [
    {
     "data": {
      "text/plain": [
       "<AxesSubplot: xlabel='Price', ylabel='Density'>"
      ]
     },
     "execution_count": 53,
     "metadata": {},
     "output_type": "execute_result"
    },
    {
     "data": {
      "image/png": "[encoded data removed]",
      "text/plain": [
       "<Figure size 640x480 with 1 Axes>"
      ]
     },
     "metadata": {},
     "output_type": "display_data"
    }
   ],
   "source": [
    "sns.distplot(new_compu['Price'])"
   ]
  },
  {
   "attachments": {},
   "cell_type": "markdown",
   "metadata": {},
   "source": [
    "# Modelo"
   ]
  },
  {
   "attachments": {},
   "cell_type": "markdown",
   "metadata": {},
   "source": [
    "Train test split"
   ]
  },
  {
   "cell_type": "code",
   "execution_count": 54,
   "metadata": {},
   "outputs": [
    {
     "name": "stdout",
     "output_type": "stream",
     "text": [
      "<class 'pandas.core.frame.DataFrame'>\n",
      "RangeIndex: 977 entries, 0 to 976\n",
      "Data columns (total 11 columns):\n",
      " #   Column         Non-Null Count  Dtype  \n",
      "---  ------         --------------  -----  \n",
      " 0   Manufacturer   977 non-null    object \n",
      " 1   Category       977 non-null    object \n",
      " 2   Screen Size    977 non-null    float64\n",
      " 3   RAM            977 non-null    float64\n",
      " 4   Weight         977 non-null    float64\n",
      " 5   Price          977 non-null    float64\n",
      " 6   Processor      977 non-null    object \n",
      " 7   Storage_class  977 non-null    object \n",
      " 8   OS             977 non-null    object \n",
      " 9   Gpu_brand      977 non-null    object \n",
      " 10  Screen_class   977 non-null    object \n",
      "dtypes: float64(4), object(7)\n",
      "memory usage: 84.1+ KB\n"
     ]
    }
   ],
   "source": [
    "new_compu.info()"
   ]
  },
  {
   "attachments": {},
   "cell_type": "markdown",
   "metadata": {},
   "source": [
    "Transformación con One Hot Encoder"
   ]
  },
  {
   "cell_type": "code",
   "execution_count": 55,
   "metadata": {},
   "outputs": [],
   "source": [
    "data_encoded = pd.get_dummies(new_compu)"
   ]
  },
  {
   "cell_type": "code",
   "execution_count": 56,
   "metadata": {},
   "outputs": [
    {
     "name": "stdout",
     "output_type": "stream",
     "text": [
      "<class 'pandas.core.frame.DataFrame'>\n",
      "RangeIndex: 977 entries, 0 to 976\n",
      "Data columns (total 43 columns):\n",
      " #   Column                           Non-Null Count  Dtype  \n",
      "---  ------                           --------------  -----  \n",
      " 0   Screen Size                      977 non-null    float64\n",
      " 1   RAM                              977 non-null    float64\n",
      " 2   Weight                           977 non-null    float64\n",
      " 3   Price                            977 non-null    float64\n",
      " 4   Manufacturer_Acer                977 non-null    uint8  \n",
      " 5   Manufacturer_Apple               977 non-null    uint8  \n",
      " 6   Manufacturer_Asus                977 non-null    uint8  \n",
      " 7   Manufacturer_Dell                977 non-null    uint8  \n",
      " 8   Manufacturer_HP                  977 non-null    uint8  \n",
      " 9   Manufacturer_Lenovo              977 non-null    uint8  \n",
      " 10  Manufacturer_MSI                 977 non-null    uint8  \n",
      " 11  Manufacturer_Other               977 non-null    uint8  \n",
      " 12  Manufacturer_Razer               977 non-null    uint8  \n",
      " 13  Manufacturer_Samsung             977 non-null    uint8  \n",
      " 14  Manufacturer_Toshiba             977 non-null    uint8  \n",
      " 15  Manufacturer_Vero                977 non-null    uint8  \n",
      " 16  Category_2 in 1 Convertible      977 non-null    uint8  \n",
      " 17  Category_Gaming                  977 non-null    uint8  \n",
      " 18  Category_Netbook                 977 non-null    uint8  \n",
      " 19  Category_Notebook                977 non-null    uint8  \n",
      " 20  Category_Ultrabook               977 non-null    uint8  \n",
      " 21  Category_Workstation             977 non-null    uint8  \n",
      " 22  Processor_AMD Processor          977 non-null    uint8  \n",
      " 23  Processor_Intel Core i3          977 non-null    uint8  \n",
      " 24  Processor_Intel Core i5          977 non-null    uint8  \n",
      " 25  Processor_Intel Core i7          977 non-null    uint8  \n",
      " 26  Processor_Other Intel Processor  977 non-null    uint8  \n",
      " 27  Storage_class_Flash Storage      977 non-null    uint8  \n",
      " 28  Storage_class_HDD                977 non-null    uint8  \n",
      " 29  Storage_class_Hybrid             977 non-null    uint8  \n",
      " 30  Storage_class_SSD                977 non-null    uint8  \n",
      " 31  OS_Linux                         977 non-null    uint8  \n",
      " 32  OS_Mac                           977 non-null    uint8  \n",
      " 33  OS_Other                         977 non-null    uint8  \n",
      " 34  OS_Windows                       977 non-null    uint8  \n",
      " 35  Gpu_brand_AMD                    977 non-null    uint8  \n",
      " 36  Gpu_brand_Intel                  977 non-null    uint8  \n",
      " 37  Gpu_brand_Nvidia                 977 non-null    uint8  \n",
      " 38  Screen_class_Full HD+            977 non-null    uint8  \n",
      " 39  Screen_class_HD                  977 non-null    uint8  \n",
      " 40  Screen_class_QHD                 977 non-null    uint8  \n",
      " 41  Screen_class_Retina              977 non-null    uint8  \n",
      " 42  Screen_class_UHD                 977 non-null    uint8  \n",
      "dtypes: float64(4), uint8(39)\n",
      "memory usage: 67.9 KB\n"
     ]
    }
   ],
   "source": [
    "data_encoded.info()"
   ]
  },
  {
   "attachments": {},
   "cell_type": "markdown",
   "metadata": {},
   "source": [
    "Train Test Split"
   ]
  },
  {
   "cell_type": "code",
   "execution_count": 57,
   "metadata": {},
   "outputs": [],
   "source": [
    "X = data_encoded.drop(columns=['Price'])\n",
    "\n",
    "y = data_encoded['Price']\n",
    "\n",
    "X_train,X_test,y_train,y_test = train_test_split(X,y,test_size=0.2,random_state=42)"
   ]
  },
  {
   "attachments": {},
   "cell_type": "markdown",
   "metadata": {},
   "source": [
    "Con un Random Forest"
   ]
  },
  {
   "cell_type": "code",
   "execution_count": 58,
   "metadata": {},
   "outputs": [],
   "source": [
    "model = RandomForestRegressor(n_estimators=100, random_state=42)\n",
    "model.fit(X_train, y_train)\n",
    "y_pred = model.predict(X_test)\n"
   ]
  },
  {
   "cell_type": "code",
   "execution_count": 59,
   "metadata": {},
   "outputs": [
    {
     "name": "stdout",
     "output_type": "stream",
     "text": [
      "Mean Squared Error: 0.04619828710269296\n",
      "R2 Score: 0.8772014316640301\n"
     ]
    }
   ],
   "source": [
    "mse = mean_squared_error(y_test, y_pred)\n",
    "r2 = r2_score(y_test, y_pred)\n",
    "\n",
    "print(\"Mean Squared Error:\", mse)\n",
    "print(\"R2 Score:\", r2)"
   ]
  },
  {
   "attachments": {},
   "cell_type": "markdown",
   "metadata": {},
   "source": [
    "MSE: El MSE mide el promedio de los errores al cuadrado entre los valores predichos y los valores reales. Cuanto más cercano a cero sea el valor del MSE, mejor será el rendimiento del modelo\n",
    "\n",
    "R2 Score: El R2 Score proporciona una medida de cuánta varianza de la variable dependiente puede explicar el modelo. Un valor de 1 indica un ajuste perfecto, mientras que un valor de 0 indica que el modelo no puede explicar la varianza en absoluto."
   ]
  },
  {
   "attachments": {},
   "cell_type": "markdown",
   "metadata": {},
   "source": [
    "### Ahora lo entreno con todos mis datos"
   ]
  },
  {
   "cell_type": "code",
   "execution_count": 60,
   "metadata": {},
   "outputs": [
    {
     "data": {
      "text/html": [
       "<style>#sk-container-id-1 {color: black;background-color: white;}#sk-container-id-1 pre{padding: 0;}#sk-container-id-1 div.sk-toggleable {background-color: white;}#sk-container-id-1 label.sk-toggleable__label {cursor: pointer;display: block;width: 100%;margin-bottom: 0;padding: 0.3em;box-sizing: border-box;text-align: center;}#sk-container-id-1 label.sk-toggleable__label-arrow:before {content: \"▸\";float: left;margin-right: 0.25em;color: #696969;}#sk-container-id-1 label.sk-toggleable__label-arrow:hover:before {color: black;}#sk-container-id-1 div.sk-estimator:hover label.sk-toggleable__label-arrow:before {color: black;}#sk-container-id-1 div.sk-toggleable__content {max-height: 0;max-width: 0;overflow: hidden;text-align: left;background-color: #f0f8ff;}#sk-container-id-1 div.sk-toggleable__content pre {margin: 0.2em;color: black;border-radius: 0.25em;background-color: #f0f8ff;}#sk-container-id-1 input.sk-toggleable__control:checked~div.sk-toggleable__content {max-height: 200px;max-width: 100%;overflow: auto;}#sk-container-id-1 input.sk-toggleable__control:checked~label.sk-toggleable__label-arrow:before {content: \"▾\";}#sk-container-id-1 div.sk-estimator input.sk-toggleable__control:checked~label.sk-toggleable__label {background-color: #d4ebff;}#sk-container-id-1 div.sk-label input.sk-toggleable__control:checked~label.sk-toggleable__label {background-color: #d4ebff;}#sk-container-id-1 input.sk-hidden--visually {border: 0;clip: rect(1px 1px 1px 1px);clip: rect(1px, 1px, 1px, 1px);height: 1px;margin: -1px;overflow: hidden;padding: 0;position: absolute;width: 1px;}#sk-container-id-1 div.sk-estimator {font-family: monospace;background-color: #f0f8ff;border: 1px dotted black;border-radius: 0.25em;box-sizing: border-box;margin-bottom: 0.5em;}#sk-container-id-1 div.sk-estimator:hover {background-color: #d4ebff;}#sk-container-id-1 div.sk-parallel-item::after {content: \"\";width: 100%;border-bottom: 1px solid gray;flex-grow: 1;}#sk-container-id-1 div.sk-label:hover label.sk-toggleable__label {background-color: #d4ebff;}#sk-container-id-1 div.sk-serial::before {content: \"\";position: absolute;border-left: 1px solid gray;box-sizing: border-box;top: 0;bottom: 0;left: 50%;z-index: 0;}#sk-container-id-1 div.sk-serial {display: flex;flex-direction: column;align-items: center;background-color: white;padding-right: 0.2em;padding-left: 0.2em;position: relative;}#sk-container-id-1 div.sk-item {position: relative;z-index: 1;}#sk-container-id-1 div.sk-parallel {display: flex;align-items: stretch;justify-content: center;background-color: white;position: relative;}#sk-container-id-1 div.sk-item::before, #sk-container-id-1 div.sk-parallel-item::before {content: \"\";position: absolute;border-left: 1px solid gray;box-sizing: border-box;top: 0;bottom: 0;left: 50%;z-index: -1;}#sk-container-id-1 div.sk-parallel-item {display: flex;flex-direction: column;z-index: 1;position: relative;background-color: white;}#sk-container-id-1 div.sk-parallel-item:first-child::after {align-self: flex-end;width: 50%;}#sk-container-id-1 div.sk-parallel-item:last-child::after {align-self: flex-start;width: 50%;}#sk-container-id-1 div.sk-parallel-item:only-child::after {width: 0;}#sk-container-id-1 div.sk-dashed-wrapped {border: 1px dashed gray;margin: 0 0.4em 0.5em 0.4em;box-sizing: border-box;padding-bottom: 0.4em;background-color: white;}#sk-container-id-1 div.sk-label label {font-family: monospace;font-weight: bold;display: inline-block;line-height: 1.2em;}#sk-container-id-1 div.sk-label-container {text-align: center;}#sk-container-id-1 div.sk-container {/* jupyter's `normalize.less` sets `[hidden] { display: none; }` but bootstrap.min.css set `[hidden] { display: none !important; }` so we also need the `!important` here to be able to override the default hidden behavior on the sphinx rendered scikit-learn.org. See: https://github.com/scikit-learn/scikit-learn/issues/21755 */display: inline-block !important;position: relative;}#sk-container-id-1 div.sk-text-repr-fallback {display: none;}</style><div id=\"sk-container-id-1\" class=\"sk-top-container\"><div class=\"sk-text-repr-fallback\"><pre>RandomForestRegressor()</pre><b>In a Jupyter environment, please rerun this cell to show the HTML representation or trust the notebook. <br />On GitHub, the HTML representation is unable to render, please try loading this page with nbviewer.org.</b></div><div class=\"sk-container\" hidden><div class=\"sk-item\"><div class=\"sk-estimator sk-toggleable\"><input class=\"sk-toggleable__control sk-hidden--visually\" id=\"sk-estimator-id-1\" type=\"checkbox\" checked><label for=\"sk-estimator-id-1\" class=\"sk-toggleable__label sk-toggleable__label-arrow\">RandomForestRegressor</label><div class=\"sk-toggleable__content\"><pre>RandomForestRegressor()</pre></div></div></div></div></div>"
      ],
      "text/plain": [
       "RandomForestRegressor()"
      ]
     },
     "execution_count": 60,
     "metadata": {},
     "output_type": "execute_result"
    }
   ],
   "source": [
    "modelo = RandomForestRegressor()\n",
    "modelo.fit(X, y)"
   ]
  },
  {
   "attachments": {},
   "cell_type": "markdown",
   "metadata": {},
   "source": [
    "# Le aplico a test todos mis cambios"
   ]
  },
  {
   "cell_type": "code",
   "execution_count": 61,
   "metadata": {},
   "outputs": [
    {
     "data": {
      "text/html": [
       "<div>\n",
       "<style scoped>\n",
       "    .dataframe tbody tr th:only-of-type {\n",
       "        vertical-align: middle;\n",
       "    }\n",
       "\n",
       "    .dataframe tbody tr th {\n",
       "        vertical-align: top;\n",
       "    }\n",
       "\n",
       "    .dataframe thead th {\n",
       "        text-align: right;\n",
       "    }\n",
       "</style>\n",
       "<table border=\"1\" class=\"dataframe\">\n",
       "  <thead>\n",
       "    <tr style=\"text-align: right;\">\n",
       "      <th></th>\n",
       "      <th>Manufacturer</th>\n",
       "      <th>Model Name</th>\n",
       "      <th>Category</th>\n",
       "      <th>Screen Size</th>\n",
       "      <th>Screen</th>\n",
       "      <th>CPU</th>\n",
       "      <th>RAM</th>\n",
       "      <th>Storage</th>\n",
       "      <th>GPU</th>\n",
       "      <th>Operating System</th>\n",
       "      <th>Operating System Version</th>\n",
       "      <th>Weight</th>\n",
       "    </tr>\n",
       "  </thead>\n",
       "  <tbody>\n",
       "    <tr>\n",
       "      <th>0</th>\n",
       "      <td>HP</td>\n",
       "      <td>15-bs053od (i7-7500U/6GB/1TB/W10)</td>\n",
       "      <td>Notebook</td>\n",
       "      <td>15.6\"</td>\n",
       "      <td>1366x768</td>\n",
       "      <td>Intel Core i7 7500U 2.7GHz</td>\n",
       "      <td>6GB</td>\n",
       "      <td>1TB HDD</td>\n",
       "      <td>Intel HD Graphics 620</td>\n",
       "      <td>Windows</td>\n",
       "      <td>10</td>\n",
       "      <td>2.04kg</td>\n",
       "    </tr>\n",
       "    <tr>\n",
       "      <th>1</th>\n",
       "      <td>Asus</td>\n",
       "      <td>Rog GL753VE-DS74</td>\n",
       "      <td>Gaming</td>\n",
       "      <td>17.3\"</td>\n",
       "      <td>Full HD 1920x1080</td>\n",
       "      <td>Intel Core i7 7700HQ 2.8GHz</td>\n",
       "      <td>16GB</td>\n",
       "      <td>256GB SSD +  1TB HDD</td>\n",
       "      <td>Nvidia GeForce GTX 1050 Ti</td>\n",
       "      <td>Windows</td>\n",
       "      <td>10</td>\n",
       "      <td>2.99kg</td>\n",
       "    </tr>\n",
       "    <tr>\n",
       "      <th>2</th>\n",
       "      <td>Dell</td>\n",
       "      <td>Inspiron 7579</td>\n",
       "      <td>2 in 1 Convertible</td>\n",
       "      <td>15.6\"</td>\n",
       "      <td>IPS Panel Full HD / Touchscreen 1920x1080</td>\n",
       "      <td>Intel Core i7 7500U 2.7GHz</td>\n",
       "      <td>12GB</td>\n",
       "      <td>512GB SSD</td>\n",
       "      <td>Intel HD Graphics 620</td>\n",
       "      <td>Windows</td>\n",
       "      <td>10</td>\n",
       "      <td>2.19kg</td>\n",
       "    </tr>\n",
       "    <tr>\n",
       "      <th>3</th>\n",
       "      <td>Toshiba</td>\n",
       "      <td>Portege Z30-C-1CV</td>\n",
       "      <td>Notebook</td>\n",
       "      <td>13.3\"</td>\n",
       "      <td>Full HD 1920x1080</td>\n",
       "      <td>Intel Core i5 6200U 2.3GHz</td>\n",
       "      <td>4GB</td>\n",
       "      <td>128GB SSD</td>\n",
       "      <td>Intel HD Graphics 520</td>\n",
       "      <td>Windows</td>\n",
       "      <td>7</td>\n",
       "      <td>1.2kg</td>\n",
       "    </tr>\n",
       "    <tr>\n",
       "      <th>4</th>\n",
       "      <td>Lenovo</td>\n",
       "      <td>IdeaPad 320-15ABR</td>\n",
       "      <td>Notebook</td>\n",
       "      <td>15.6\"</td>\n",
       "      <td>Full HD 1920x1080</td>\n",
       "      <td>AMD A12-Series 9720P 3.6GHz</td>\n",
       "      <td>6GB</td>\n",
       "      <td>256GB SSD</td>\n",
       "      <td>AMD Radeon 530</td>\n",
       "      <td>Windows</td>\n",
       "      <td>10</td>\n",
       "      <td>2.2kg</td>\n",
       "    </tr>\n",
       "  </tbody>\n",
       "</table>\n",
       "</div>"
      ],
      "text/plain": [
       "  Manufacturer                         Model Name            Category  \\\n",
       "0           HP  15-bs053od (i7-7500U/6GB/1TB/W10)            Notebook   \n",
       "1         Asus                   Rog GL753VE-DS74              Gaming   \n",
       "2         Dell                      Inspiron 7579  2 in 1 Convertible   \n",
       "3      Toshiba                  Portege Z30-C-1CV            Notebook   \n",
       "4       Lenovo                  IdeaPad 320-15ABR            Notebook   \n",
       "\n",
       "  Screen Size                                     Screen  \\\n",
       "0       15.6\"                                   1366x768   \n",
       "1       17.3\"                          Full HD 1920x1080   \n",
       "2       15.6\"  IPS Panel Full HD / Touchscreen 1920x1080   \n",
       "3       13.3\"                          Full HD 1920x1080   \n",
       "4       15.6\"                          Full HD 1920x1080   \n",
       "\n",
       "                           CPU   RAM               Storage  \\\n",
       "0   Intel Core i7 7500U 2.7GHz   6GB               1TB HDD   \n",
       "1  Intel Core i7 7700HQ 2.8GHz  16GB  256GB SSD +  1TB HDD   \n",
       "2   Intel Core i7 7500U 2.7GHz  12GB             512GB SSD   \n",
       "3   Intel Core i5 6200U 2.3GHz   4GB             128GB SSD   \n",
       "4  AMD A12-Series 9720P 3.6GHz   6GB             256GB SSD   \n",
       "\n",
       "                          GPU Operating System Operating System Version  \\\n",
       "0       Intel HD Graphics 620          Windows                       10   \n",
       "1  Nvidia GeForce GTX 1050 Ti          Windows                       10   \n",
       "2       Intel HD Graphics 620          Windows                       10   \n",
       "3       Intel HD Graphics 520          Windows                        7   \n",
       "4              AMD Radeon 530          Windows                       10   \n",
       "\n",
       "   Weight  \n",
       "0  2.04kg  \n",
       "1  2.99kg  \n",
       "2  2.19kg  \n",
       "3   1.2kg  \n",
       "4   2.2kg  "
      ]
     },
     "execution_count": 61,
     "metadata": {},
     "output_type": "execute_result"
    }
   ],
   "source": [
    "test = pd.read_csv('data/test.csv')\n",
    "\n",
    "test.head()"
   ]
  },
  {
   "cell_type": "code",
   "execution_count": 62,
   "metadata": {},
   "outputs": [
    {
     "name": "stdout",
     "output_type": "stream",
     "text": [
      "<class 'pandas.core.frame.DataFrame'>\n",
      "RangeIndex: 325 entries, 0 to 324\n",
      "Data columns (total 12 columns):\n",
      " #   Column                    Non-Null Count  Dtype \n",
      "---  ------                    --------------  ----- \n",
      " 0   Manufacturer              325 non-null    object\n",
      " 1   Model Name                325 non-null    object\n",
      " 2   Category                  325 non-null    object\n",
      " 3   Screen Size               325 non-null    object\n",
      " 4   Screen                    325 non-null    object\n",
      " 5   CPU                       325 non-null    object\n",
      " 6   RAM                       325 non-null    object\n",
      " 7    Storage                  325 non-null    object\n",
      " 8   GPU                       325 non-null    object\n",
      " 9   Operating System          325 non-null    object\n",
      " 10  Operating System Version  291 non-null    object\n",
      " 11  Weight                    325 non-null    object\n",
      "dtypes: object(12)\n",
      "memory usage: 30.6+ KB\n"
     ]
    }
   ],
   "source": [
    "test.info()"
   ]
  },
  {
   "cell_type": "code",
   "execution_count": 63,
   "metadata": {},
   "outputs": [
    {
     "data": {
      "text/html": [
       "<div>\n",
       "<style scoped>\n",
       "    .dataframe tbody tr th:only-of-type {\n",
       "        vertical-align: middle;\n",
       "    }\n",
       "\n",
       "    .dataframe tbody tr th {\n",
       "        vertical-align: top;\n",
       "    }\n",
       "\n",
       "    .dataframe thead th {\n",
       "        text-align: right;\n",
       "    }\n",
       "</style>\n",
       "<table border=\"1\" class=\"dataframe\">\n",
       "  <thead>\n",
       "    <tr style=\"text-align: right;\">\n",
       "      <th></th>\n",
       "      <th>Manufacturer</th>\n",
       "      <th>Category</th>\n",
       "      <th>Screen Size</th>\n",
       "      <th>RAM</th>\n",
       "      <th>Weight</th>\n",
       "      <th>Processor</th>\n",
       "      <th>Storage_class</th>\n",
       "      <th>OS</th>\n",
       "      <th>Gpu_brand</th>\n",
       "      <th>Screen_class</th>\n",
       "    </tr>\n",
       "  </thead>\n",
       "  <tbody>\n",
       "    <tr>\n",
       "      <th>0</th>\n",
       "      <td>HP</td>\n",
       "      <td>Notebook</td>\n",
       "      <td>15.6</td>\n",
       "      <td>6.0</td>\n",
       "      <td>2.04</td>\n",
       "      <td>Intel Core i7</td>\n",
       "      <td>HDD</td>\n",
       "      <td>Windows</td>\n",
       "      <td>Intel</td>\n",
       "      <td>HD</td>\n",
       "    </tr>\n",
       "    <tr>\n",
       "      <th>1</th>\n",
       "      <td>Asus</td>\n",
       "      <td>Gaming</td>\n",
       "      <td>17.3</td>\n",
       "      <td>16.0</td>\n",
       "      <td>2.99</td>\n",
       "      <td>Intel Core i7</td>\n",
       "      <td>SSD</td>\n",
       "      <td>Windows</td>\n",
       "      <td>Nvidia</td>\n",
       "      <td>HD</td>\n",
       "    </tr>\n",
       "    <tr>\n",
       "      <th>2</th>\n",
       "      <td>Dell</td>\n",
       "      <td>2 in 1 Convertible</td>\n",
       "      <td>15.6</td>\n",
       "      <td>12.0</td>\n",
       "      <td>2.19</td>\n",
       "      <td>Intel Core i7</td>\n",
       "      <td>SSD</td>\n",
       "      <td>Windows</td>\n",
       "      <td>Intel</td>\n",
       "      <td>HD</td>\n",
       "    </tr>\n",
       "    <tr>\n",
       "      <th>3</th>\n",
       "      <td>Toshiba</td>\n",
       "      <td>Notebook</td>\n",
       "      <td>13.3</td>\n",
       "      <td>4.0</td>\n",
       "      <td>1.20</td>\n",
       "      <td>Intel Core i5</td>\n",
       "      <td>SSD</td>\n",
       "      <td>Windows</td>\n",
       "      <td>Intel</td>\n",
       "      <td>HD</td>\n",
       "    </tr>\n",
       "    <tr>\n",
       "      <th>4</th>\n",
       "      <td>Lenovo</td>\n",
       "      <td>Notebook</td>\n",
       "      <td>15.6</td>\n",
       "      <td>6.0</td>\n",
       "      <td>2.20</td>\n",
       "      <td>AMD Processor</td>\n",
       "      <td>SSD</td>\n",
       "      <td>Windows</td>\n",
       "      <td>AMD</td>\n",
       "      <td>HD</td>\n",
       "    </tr>\n",
       "  </tbody>\n",
       "</table>\n",
       "</div>"
      ],
      "text/plain": [
       "  Manufacturer            Category  Screen Size   RAM  Weight      Processor  \\\n",
       "0           HP            Notebook         15.6   6.0    2.04  Intel Core i7   \n",
       "1         Asus              Gaming         17.3  16.0    2.99  Intel Core i7   \n",
       "2         Dell  2 in 1 Convertible         15.6  12.0    2.19  Intel Core i7   \n",
       "3      Toshiba            Notebook         13.3   4.0    1.20  Intel Core i5   \n",
       "4       Lenovo            Notebook         15.6   6.0    2.20  AMD Processor   \n",
       "\n",
       "  Storage_class       OS Gpu_brand Screen_class  \n",
       "0           HDD  Windows     Intel           HD  \n",
       "1           SSD  Windows    Nvidia           HD  \n",
       "2           SSD  Windows     Intel           HD  \n",
       "3           SSD  Windows     Intel           HD  \n",
       "4           SSD  Windows       AMD           HD  "
      ]
     },
     "execution_count": 63,
     "metadata": {},
     "output_type": "execute_result"
    }
   ],
   "source": [
    "test = replace_with_other(test, 'Manufacturer', manufacturer_list)\n",
    "\n",
    "test['Screen Size'] = test['Screen Size'].apply(inches)\n",
    "\n",
    "test.Weight = test.Weight.apply(weight)\n",
    "\n",
    "test.RAM = test.RAM.apply(gb)\n",
    "\n",
    "test['Processor'] = test['CPU'].apply(lambda x: fetch_processor(x))\n",
    "\n",
    "test['Storage_class'] = test[' Storage'].apply(lambda x: storage(x))\n",
    "\n",
    "test['OS'] = test['Operating System'].apply(cat_os)\n",
    "\n",
    "test['Gpu_brand'] = test['GPU'].apply(lambda x:x.split()[0])\n",
    "\n",
    "test['Screen_class'] = test['Screen'].apply(classify_resolution)\n",
    "\n",
    "test['Gpu_brand'] = test['Gpu_brand'].replace('ARM', 'AMD')\n",
    "\n",
    "# Lista de columnas a eliminar\n",
    "columns_to_drop = ['CPU', 'Operating System', 'Operating System Version', ' Storage', 'Screen', 'GPU', 'Model Name']\n",
    "\n",
    "# Crear nuevo dataframe eliminando las columnas\n",
    "new_test = test.drop(columns=columns_to_drop)\n",
    "\n",
    "new_test.head()"
   ]
  },
  {
   "attachments": {},
   "cell_type": "markdown",
   "metadata": {},
   "source": [
    "Transformación con One Hot Encoder"
   ]
  },
  {
   "cell_type": "code",
   "execution_count": 64,
   "metadata": {},
   "outputs": [
    {
     "name": "stdout",
     "output_type": "stream",
     "text": [
      "<class 'pandas.core.frame.DataFrame'>\n",
      "RangeIndex: 325 entries, 0 to 324\n",
      "Data columns (total 42 columns):\n",
      " #   Column                           Non-Null Count  Dtype  \n",
      "---  ------                           --------------  -----  \n",
      " 0   Screen Size                      325 non-null    float64\n",
      " 1   RAM                              325 non-null    float64\n",
      " 2   Weight                           325 non-null    float64\n",
      " 3   Manufacturer_Acer                325 non-null    uint8  \n",
      " 4   Manufacturer_Apple               325 non-null    uint8  \n",
      " 5   Manufacturer_Asus                325 non-null    uint8  \n",
      " 6   Manufacturer_Dell                325 non-null    uint8  \n",
      " 7   Manufacturer_HP                  325 non-null    uint8  \n",
      " 8   Manufacturer_Lenovo              325 non-null    uint8  \n",
      " 9   Manufacturer_MSI                 325 non-null    uint8  \n",
      " 10  Manufacturer_Other               325 non-null    uint8  \n",
      " 11  Manufacturer_Razer               325 non-null    uint8  \n",
      " 12  Manufacturer_Samsung             325 non-null    uint8  \n",
      " 13  Manufacturer_Toshiba             325 non-null    uint8  \n",
      " 14  Manufacturer_Vero                325 non-null    uint8  \n",
      " 15  Category_2 in 1 Convertible      325 non-null    uint8  \n",
      " 16  Category_Gaming                  325 non-null    uint8  \n",
      " 17  Category_Netbook                 325 non-null    uint8  \n",
      " 18  Category_Notebook                325 non-null    uint8  \n",
      " 19  Category_Ultrabook               325 non-null    uint8  \n",
      " 20  Category_Workstation             325 non-null    uint8  \n",
      " 21  Processor_AMD Processor          325 non-null    uint8  \n",
      " 22  Processor_Intel Core i3          325 non-null    uint8  \n",
      " 23  Processor_Intel Core i5          325 non-null    uint8  \n",
      " 24  Processor_Intel Core i7          325 non-null    uint8  \n",
      " 25  Processor_Other Intel Processor  325 non-null    uint8  \n",
      " 26  Storage_class_Flash Storage      325 non-null    uint8  \n",
      " 27  Storage_class_HDD                325 non-null    uint8  \n",
      " 28  Storage_class_Hybrid             325 non-null    uint8  \n",
      " 29  Storage_class_SSD                325 non-null    uint8  \n",
      " 30  OS_Linux                         325 non-null    uint8  \n",
      " 31  OS_Mac                           325 non-null    uint8  \n",
      " 32  OS_Other                         325 non-null    uint8  \n",
      " 33  OS_Windows                       325 non-null    uint8  \n",
      " 34  Gpu_brand_AMD                    325 non-null    uint8  \n",
      " 35  Gpu_brand_Intel                  325 non-null    uint8  \n",
      " 36  Gpu_brand_Nvidia                 325 non-null    uint8  \n",
      " 37  Screen_class_Full HD+            325 non-null    uint8  \n",
      " 38  Screen_class_HD                  325 non-null    uint8  \n",
      " 39  Screen_class_QHD                 325 non-null    uint8  \n",
      " 40  Screen_class_Retina              325 non-null    uint8  \n",
      " 41  Screen_class_UHD                 325 non-null    uint8  \n",
      "dtypes: float64(3), uint8(39)\n",
      "memory usage: 20.1 KB\n"
     ]
    }
   ],
   "source": [
    "\n",
    "test_encoded = pd.get_dummies(new_test)\n",
    "\n",
    "test_encoded.info()"
   ]
  },
  {
   "cell_type": "code",
   "execution_count": 65,
   "metadata": {},
   "outputs": [
    {
     "name": "stdout",
     "output_type": "stream",
     "text": [
      "<class 'pandas.core.frame.DataFrame'>\n",
      "RangeIndex: 977 entries, 0 to 976\n",
      "Data columns (total 43 columns):\n",
      " #   Column                           Non-Null Count  Dtype  \n",
      "---  ------                           --------------  -----  \n",
      " 0   Screen Size                      977 non-null    float64\n",
      " 1   RAM                              977 non-null    float64\n",
      " 2   Weight                           977 non-null    float64\n",
      " 3   Price                            977 non-null    float64\n",
      " 4   Manufacturer_Acer                977 non-null    uint8  \n",
      " 5   Manufacturer_Apple               977 non-null    uint8  \n",
      " 6   Manufacturer_Asus                977 non-null    uint8  \n",
      " 7   Manufacturer_Dell                977 non-null    uint8  \n",
      " 8   Manufacturer_HP                  977 non-null    uint8  \n",
      " 9   Manufacturer_Lenovo              977 non-null    uint8  \n",
      " 10  Manufacturer_MSI                 977 non-null    uint8  \n",
      " 11  Manufacturer_Other               977 non-null    uint8  \n",
      " 12  Manufacturer_Razer               977 non-null    uint8  \n",
      " 13  Manufacturer_Samsung             977 non-null    uint8  \n",
      " 14  Manufacturer_Toshiba             977 non-null    uint8  \n",
      " 15  Manufacturer_Vero                977 non-null    uint8  \n",
      " 16  Category_2 in 1 Convertible      977 non-null    uint8  \n",
      " 17  Category_Gaming                  977 non-null    uint8  \n",
      " 18  Category_Netbook                 977 non-null    uint8  \n",
      " 19  Category_Notebook                977 non-null    uint8  \n",
      " 20  Category_Ultrabook               977 non-null    uint8  \n",
      " 21  Category_Workstation             977 non-null    uint8  \n",
      " 22  Processor_AMD Processor          977 non-null    uint8  \n",
      " 23  Processor_Intel Core i3          977 non-null    uint8  \n",
      " 24  Processor_Intel Core i5          977 non-null    uint8  \n",
      " 25  Processor_Intel Core i7          977 non-null    uint8  \n",
      " 26  Processor_Other Intel Processor  977 non-null    uint8  \n",
      " 27  Storage_class_Flash Storage      977 non-null    uint8  \n",
      " 28  Storage_class_HDD                977 non-null    uint8  \n",
      " 29  Storage_class_Hybrid             977 non-null    uint8  \n",
      " 30  Storage_class_SSD                977 non-null    uint8  \n",
      " 31  OS_Linux                         977 non-null    uint8  \n",
      " 32  OS_Mac                           977 non-null    uint8  \n",
      " 33  OS_Other                         977 non-null    uint8  \n",
      " 34  OS_Windows                       977 non-null    uint8  \n",
      " 35  Gpu_brand_AMD                    977 non-null    uint8  \n",
      " 36  Gpu_brand_Intel                  977 non-null    uint8  \n",
      " 37  Gpu_brand_Nvidia                 977 non-null    uint8  \n",
      " 38  Screen_class_Full HD+            977 non-null    uint8  \n",
      " 39  Screen_class_HD                  977 non-null    uint8  \n",
      " 40  Screen_class_QHD                 977 non-null    uint8  \n",
      " 41  Screen_class_Retina              977 non-null    uint8  \n",
      " 42  Screen_class_UHD                 977 non-null    uint8  \n",
      "dtypes: float64(4), uint8(39)\n",
      "memory usage: 67.9 KB\n"
     ]
    }
   ],
   "source": [
    "data_encoded.info()"
   ]
  },
  {
   "cell_type": "code",
   "execution_count": 66,
   "metadata": {},
   "outputs": [],
   "source": [
    "\n",
    "y_pred_test = model.predict(test_encoded)"
   ]
  },
  {
   "cell_type": "code",
   "execution_count": 67,
   "metadata": {},
   "outputs": [],
   "source": [
    "# Transformación inversa a las predicciones del conjunto de pruebas ya que la he transformado antes a escala logaritmica\n",
    "y_pred_test_transformed = np.exp(y_pred_test)\n",
    "\n",
    "# Obtener los valores reales de los precios del conjunto de pruebas en forma de arraayy\n",
    "y_pred_test_actual = y_pred_test_transformed.flatten()  "
   ]
  },
  {
   "cell_type": "code",
   "execution_count": 68,
   "metadata": {},
   "outputs": [],
   "source": [
    "test['Price_Pred'] = y_pred_test_actual"
   ]
  },
  {
   "cell_type": "code",
   "execution_count": 69,
   "metadata": {},
   "outputs": [
    {
     "data": {
      "text/html": [
       "<div>\n",
       "<style scoped>\n",
       "    .dataframe tbody tr th:only-of-type {\n",
       "        vertical-align: middle;\n",
       "    }\n",
       "\n",
       "    .dataframe tbody tr th {\n",
       "        vertical-align: top;\n",
       "    }\n",
       "\n",
       "    .dataframe thead th {\n",
       "        text-align: right;\n",
       "    }\n",
       "</style>\n",
       "<table border=\"1\" class=\"dataframe\">\n",
       "  <thead>\n",
       "    <tr style=\"text-align: right;\">\n",
       "      <th></th>\n",
       "      <th>count</th>\n",
       "      <th>mean</th>\n",
       "      <th>std</th>\n",
       "      <th>min</th>\n",
       "      <th>25%</th>\n",
       "      <th>50%</th>\n",
       "      <th>75%</th>\n",
       "      <th>max</th>\n",
       "    </tr>\n",
       "  </thead>\n",
       "  <tbody>\n",
       "    <tr>\n",
       "      <th>Screen Size</th>\n",
       "      <td>325.0</td>\n",
       "      <td>1.490892e+01</td>\n",
       "      <td>1.446840e+00</td>\n",
       "      <td>1.010000e+01</td>\n",
       "      <td>1.400000e+01</td>\n",
       "      <td>1.560000e+01</td>\n",
       "      <td>1.560000e+01</td>\n",
       "      <td>1.730000e+01</td>\n",
       "    </tr>\n",
       "    <tr>\n",
       "      <th>RAM</th>\n",
       "      <td>325.0</td>\n",
       "      <td>7.920000e+00</td>\n",
       "      <td>5.310693e+00</td>\n",
       "      <td>2.000000e+00</td>\n",
       "      <td>4.000000e+00</td>\n",
       "      <td>8.000000e+00</td>\n",
       "      <td>8.000000e+00</td>\n",
       "      <td>6.400000e+01</td>\n",
       "    </tr>\n",
       "    <tr>\n",
       "      <th>Weight</th>\n",
       "      <td>325.0</td>\n",
       "      <td>2.036745e+00</td>\n",
       "      <td>6.657553e-01</td>\n",
       "      <td>6.900000e-01</td>\n",
       "      <td>1.500000e+00</td>\n",
       "      <td>2.090000e+00</td>\n",
       "      <td>2.310000e+00</td>\n",
       "      <td>4.600000e+00</td>\n",
       "    </tr>\n",
       "    <tr>\n",
       "      <th>Price_Pred</th>\n",
       "      <td>325.0</td>\n",
       "      <td>9.338867e+06</td>\n",
       "      <td>5.122692e+06</td>\n",
       "      <td>2.409466e+06</td>\n",
       "      <td>5.367796e+06</td>\n",
       "      <td>8.700641e+06</td>\n",
       "      <td>1.241021e+07</td>\n",
       "      <td>2.884533e+07</td>\n",
       "    </tr>\n",
       "  </tbody>\n",
       "</table>\n",
       "</div>"
      ],
      "text/plain": [
       "             count          mean           std           min           25%  \\\n",
       "Screen Size  325.0  1.490892e+01  1.446840e+00  1.010000e+01  1.400000e+01   \n",
       "RAM          325.0  7.920000e+00  5.310693e+00  2.000000e+00  4.000000e+00   \n",
       "Weight       325.0  2.036745e+00  6.657553e-01  6.900000e-01  1.500000e+00   \n",
       "Price_Pred   325.0  9.338867e+06  5.122692e+06  2.409466e+06  5.367796e+06   \n",
       "\n",
       "                      50%           75%           max  \n",
       "Screen Size  1.560000e+01  1.560000e+01  1.730000e+01  \n",
       "RAM          8.000000e+00  8.000000e+00  6.400000e+01  \n",
       "Weight       2.090000e+00  2.310000e+00  4.600000e+00  \n",
       "Price_Pred   8.700641e+06  1.241021e+07  2.884533e+07  "
      ]
     },
     "execution_count": 69,
     "metadata": {},
     "output_type": "execute_result"
    }
   ],
   "source": [
    "test.describe().T"
   ]
  },
  {
   "cell_type": "code",
   "execution_count": 70,
   "metadata": {},
   "outputs": [
    {
     "data": {
      "text/html": [
       "<div>\n",
       "<style scoped>\n",
       "    .dataframe tbody tr th:only-of-type {\n",
       "        vertical-align: middle;\n",
       "    }\n",
       "\n",
       "    .dataframe tbody tr th {\n",
       "        vertical-align: top;\n",
       "    }\n",
       "\n",
       "    .dataframe thead th {\n",
       "        text-align: right;\n",
       "    }\n",
       "</style>\n",
       "<table border=\"1\" class=\"dataframe\">\n",
       "  <thead>\n",
       "    <tr style=\"text-align: right;\">\n",
       "      <th></th>\n",
       "      <th>count</th>\n",
       "      <th>mean</th>\n",
       "      <th>std</th>\n",
       "      <th>min</th>\n",
       "      <th>25%</th>\n",
       "      <th>50%</th>\n",
       "      <th>75%</th>\n",
       "      <th>max</th>\n",
       "    </tr>\n",
       "  </thead>\n",
       "  <tbody>\n",
       "    <tr>\n",
       "      <th>Screen Size</th>\n",
       "      <td>977.0</td>\n",
       "      <td>1.505261e+01</td>\n",
       "      <td>1.418950e+00</td>\n",
       "      <td>10.10</td>\n",
       "      <td>14.0</td>\n",
       "      <td>15.60</td>\n",
       "      <td>15.6</td>\n",
       "      <td>18.4</td>\n",
       "    </tr>\n",
       "    <tr>\n",
       "      <th>RAM</th>\n",
       "      <td>977.0</td>\n",
       "      <td>8.528147e+00</td>\n",
       "      <td>4.997487e+00</td>\n",
       "      <td>2.00</td>\n",
       "      <td>4.0</td>\n",
       "      <td>8.00</td>\n",
       "      <td>8.0</td>\n",
       "      <td>32.0</td>\n",
       "    </tr>\n",
       "    <tr>\n",
       "      <th>Weight</th>\n",
       "      <td>977.0</td>\n",
       "      <td>2.039128e+00</td>\n",
       "      <td>6.660094e-01</td>\n",
       "      <td>0.69</td>\n",
       "      <td>1.5</td>\n",
       "      <td>2.02</td>\n",
       "      <td>2.3</td>\n",
       "      <td>4.7</td>\n",
       "    </tr>\n",
       "    <tr>\n",
       "      <th>Price</th>\n",
       "      <td>977.0</td>\n",
       "      <td>1.001899e+07</td>\n",
       "      <td>6.306430e+06</td>\n",
       "      <td>1706374.80</td>\n",
       "      <td>5326308.0</td>\n",
       "      <td>8527428.00</td>\n",
       "      <td>13115700.0</td>\n",
       "      <td>54232308.0</td>\n",
       "    </tr>\n",
       "    <tr>\n",
       "      <th>Weight_class</th>\n",
       "      <td>977.0</td>\n",
       "      <td>2.245138e+00</td>\n",
       "      <td>6.235963e-01</td>\n",
       "      <td>1.00</td>\n",
       "      <td>1.5</td>\n",
       "      <td>2.50</td>\n",
       "      <td>2.5</td>\n",
       "      <td>4.0</td>\n",
       "    </tr>\n",
       "  </tbody>\n",
       "</table>\n",
       "</div>"
      ],
      "text/plain": [
       "              count          mean           std         min        25%  \\\n",
       "Screen Size   977.0  1.505261e+01  1.418950e+00       10.10       14.0   \n",
       "RAM           977.0  8.528147e+00  4.997487e+00        2.00        4.0   \n",
       "Weight        977.0  2.039128e+00  6.660094e-01        0.69        1.5   \n",
       "Price         977.0  1.001899e+07  6.306430e+06  1706374.80  5326308.0   \n",
       "Weight_class  977.0  2.245138e+00  6.235963e-01        1.00        1.5   \n",
       "\n",
       "                     50%         75%         max  \n",
       "Screen Size        15.60        15.6        18.4  \n",
       "RAM                 8.00         8.0        32.0  \n",
       "Weight              2.02         2.3         4.7  \n",
       "Price         8527428.00  13115700.0  54232308.0  \n",
       "Weight_class        2.50         2.5         4.0  "
      ]
     },
     "execution_count": 70,
     "metadata": {},
     "output_type": "execute_result"
    }
   ],
   "source": [
    "compu.describe().T"
   ]
  },
  {
   "cell_type": "code",
   "execution_count": 71,
   "metadata": {},
   "outputs": [],
   "source": [
    "pred_df = pd.DataFrame(y_pred_test_actual, columns=[\"Price\"])\n",
    "pred_df[\"id\"] = test_encoded.index\n",
    "pred_df = pred_df.set_index(\"id\")\n",
    "\n",
    "# exportar predicciones :)\n",
    "#pred_df.to_csv(\"predict2.csv\")"
   ]
  }
 ],
 "metadata": {
  "kernelspec": {
   "display_name": "ML",
   "language": "python",
   "name": "python3"
  },
  "language_info": {
   "codemirror_mode": {
    "name": "ipython",
    "version": 3
   },
   "file_extension": ".py",
   "mimetype": "text/x-python",
   "name": "python",
   "nbconvert_exporter": "python",
   "pygments_lexer": "ipython3",
   "version": "3.10.10"
  },
  "orig_nbformat": 4
 },
 "nbformat": 4,
 "nbformat_minor": 2
}
